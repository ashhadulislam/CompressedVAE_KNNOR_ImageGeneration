{
 "cells": [
  {
   "cell_type": "code",
   "execution_count": 3,
   "metadata": {},
   "outputs": [
    {
     "name": "stdout",
     "output_type": "stream",
     "text": [
      "Random Seed:  999\n"
     ]
    }
   ],
   "source": [
    "from __future__ import print_function\n",
    "#%matplotlib inline\n",
    "import argparse\n",
    "import os\n",
    "import random\n",
    "import torch\n",
    "import torch.nn as nn\n",
    "import torch.nn.parallel\n",
    "import torch.backends.cudnn as cudnn\n",
    "import torch.optim as optim\n",
    "import torch.utils.data\n",
    "import torchvision.datasets as dset\n",
    "import torchvision.transforms as transforms\n",
    "from torchvision import models\n",
    "import torchvision.utils as vutils\n",
    "import numpy as np\n",
    "import matplotlib.pyplot as plt\n",
    "import matplotlib.animation as animation\n",
    "from IPython.display import HTML\n",
    "\n",
    "# Set random seed for reproducibility\n",
    "manualSeed = 999\n",
    "#manualSeed = random.randint(1, 10000) # use if you want new results\n",
    "print(\"Random Seed: \", manualSeed)\n",
    "random.seed(manualSeed)\n",
    "torch.manual_seed(manualSeed)\n",
    "\n",
    "\n",
    "import os\n",
    "import yaml\n",
    "import argparse\n",
    "import numpy as np\n",
    "from pathlib import Path\n",
    "from models import *\n",
    "from experiment import VAEXperiment\n",
    "import torch.backends.cudnn as cudnn\n",
    "from pytorch_lightning import Trainer\n",
    "from pytorch_lightning.loggers import TensorBoardLogger\n",
    "from pytorch_lightning.utilities.seed import seed_everything\n",
    "from pytorch_lightning.callbacks import LearningRateMonitor, ModelCheckpoint\n",
    "from dataset import VAEDataset\n",
    "from pytorch_lightning.plugins import DDPPlugin\n",
    "\n",
    "import matplotlib.pyplot as plt\n",
    "\n",
    "device = torch.device(\"cuda:0\" if (torch.cuda.is_available() and ngpu > 0) else \"cpu\")\n",
    "# In[ ]:\n",
    "\n",
    "\n",
    "# # Plot some training images\n",
    "# real_batch = next(iter(train_loader))\n",
    "# plt.figure(figsize=(8,8))\n",
    "# plt.axis(\"off\")\n",
    "# plt.title(\"Training Images\")\n",
    "# plt.imshow(np.transpose(vutils.make_grid(real_batch[0].to(device)[:64], padding=2, normalize=True).cpu(),(1,2,0)))\n",
    "\n",
    "\n",
    "# In[ ]:\n",
    "\n",
    "\n",
    "# custom weights initialization called on netG and netD\n",
    "def weights_init(m):\n",
    "    classname = m.__class__.__name__\n",
    "    if classname.find('Conv') != -1:\n",
    "        nn.init.normal_(m.weight.data, 0.0, 0.02)\n",
    "    elif classname.find('BatchNorm') != -1:\n",
    "        nn.init.normal_(m.weight.data, 1.0, 0.02)\n",
    "        nn.init.constant_(m.bias.data, 0)\n",
    "        \n",
    "# Generator Code\n",
    "\n",
    "class Generator(nn.Module):\n",
    "    def __init__(self, ngpu):\n",
    "        super(Generator, self).__init__()\n",
    "        self.ngpu = ngpu\n",
    "        self.main = nn.Sequential(\n",
    "            # input is Z, going into a convolution\n",
    "            nn.ConvTranspose2d( nz, ngf * 8, 4, 1, 0, bias=False),\n",
    "            nn.BatchNorm2d(ngf * 8),\n",
    "            nn.ReLU(True),\n",
    "            # state size. (ngf*8) x 4 x 4\n",
    "            nn.ConvTranspose2d(ngf * 8, ngf * 4, 4, 2, 1, bias=False),\n",
    "            nn.BatchNorm2d(ngf * 4),\n",
    "            nn.ReLU(True),\n",
    "            # state size. (ngf*4) x 8 x 8\n",
    "            nn.ConvTranspose2d( ngf * 4, ngf * 2, 4, 2, 1, bias=False),\n",
    "            nn.BatchNorm2d(ngf * 2),\n",
    "            nn.ReLU(True),\n",
    "            # state size. (ngf*2) x 16 x 16\n",
    "            nn.ConvTranspose2d( ngf * 2, ngf, 4, 2, 1, bias=False),\n",
    "            nn.BatchNorm2d(ngf),\n",
    "            nn.ReLU(True),\n",
    "            # state size. (ngf) x 32 x 32\n",
    "            nn.ConvTranspose2d( ngf, nc, 4, 2, 1, bias=False),\n",
    "            nn.Tanh()\n",
    "            # state size. (nc) x 64 x 64\n",
    "        )\n",
    "\n",
    "    def forward(self, input):\n",
    "        return self.main(input)\n",
    "    \n",
    "class Discriminator(nn.Module):\n",
    "    def __init__(self, ngpu):\n",
    "        super(Discriminator, self).__init__()\n",
    "        self.ngpu = ngpu\n",
    "        self.main = nn.Sequential(\n",
    "            # input is (nc) x 64 x 64\n",
    "            nn.Conv2d(nc, ndf, 4, 2, 1, bias=False),\n",
    "            nn.LeakyReLU(0.2, inplace=True),\n",
    "            # state size. (ndf) x 32 x 32\n",
    "            nn.Conv2d(ndf, ndf * 2, 4, 2, 1, bias=False),\n",
    "            nn.BatchNorm2d(ndf * 2),\n",
    "            nn.LeakyReLU(0.2, inplace=True),\n",
    "            # state size. (ndf*2) x 16 x 16\n",
    "            nn.Conv2d(ndf * 2, ndf * 4, 4, 2, 1, bias=False),\n",
    "            nn.BatchNorm2d(ndf * 4),\n",
    "            nn.LeakyReLU(0.2, inplace=True),\n",
    "            # state size. (ndf*4) x 8 x 8\n",
    "            nn.Conv2d(ndf * 4, ndf * 8, 4, 2, 1, bias=False),\n",
    "            nn.BatchNorm2d(ndf * 8),\n",
    "            nn.LeakyReLU(0.2, inplace=True),\n",
    "            # state size. (ndf*8) x 4 x 4\n",
    "            nn.Conv2d(ndf * 8, 1, 4, 1, 0, bias=False),\n",
    "            nn.Sigmoid()\n",
    "        )\n",
    "\n",
    "    def forward(self, input):\n",
    "        return self.main(input)    \n",
    "\n",
    "\n",
    "# In[ ]:\n",
    "\n",
    "\n",
    "# Spatial size of training images. All images will be resized to this\n",
    "#   size using a transformer.\n",
    "image_size = 64\n",
    "\n",
    "# Number of channels in the training images. For color images this is 3\n",
    "nc = 3\n",
    "\n",
    "# Size of z latent vector (i.e. size of generator input)\n",
    "nz = 100\n",
    "\n",
    "# Size of feature maps in generator\n",
    "ngf = 64\n",
    "\n",
    "# Size of feature maps in discriminator\n",
    "ndf = 64\n",
    "\n",
    "# Number of training epochs\n",
    "num_epochs = 10\n",
    "\n",
    "# Learning rate for optimizers\n",
    "lr = 0.0002\n",
    "\n",
    "# Beta1 hyperparam for Adam optimizers\n",
    "beta1 = 0.5\n",
    "\n",
    "# Number of GPUs available. Use 0 for CPU mode.\n",
    "ngpu = 1\n",
    "\n",
    "\n",
    "# In[ ]:\n"
   ]
  },
  {
   "cell_type": "markdown",
   "metadata": {},
   "source": [
    "### Load existing Generator and Discriminator"
   ]
  },
  {
   "cell_type": "code",
   "execution_count": 4,
   "metadata": {},
   "outputs": [
    {
     "name": "stdout",
     "output_type": "stream",
     "text": [
      "Generator(\n",
      "  (main): Sequential(\n",
      "    (0): ConvTranspose2d(100, 512, kernel_size=(4, 4), stride=(1, 1), bias=False)\n",
      "    (1): BatchNorm2d(512, eps=1e-05, momentum=0.1, affine=True, track_running_stats=True)\n",
      "    (2): ReLU(inplace=True)\n",
      "    (3): ConvTranspose2d(512, 256, kernel_size=(4, 4), stride=(2, 2), padding=(1, 1), bias=False)\n",
      "    (4): BatchNorm2d(256, eps=1e-05, momentum=0.1, affine=True, track_running_stats=True)\n",
      "    (5): ReLU(inplace=True)\n",
      "    (6): ConvTranspose2d(256, 128, kernel_size=(4, 4), stride=(2, 2), padding=(1, 1), bias=False)\n",
      "    (7): BatchNorm2d(128, eps=1e-05, momentum=0.1, affine=True, track_running_stats=True)\n",
      "    (8): ReLU(inplace=True)\n",
      "    (9): ConvTranspose2d(128, 64, kernel_size=(4, 4), stride=(2, 2), padding=(1, 1), bias=False)\n",
      "    (10): BatchNorm2d(64, eps=1e-05, momentum=0.1, affine=True, track_running_stats=True)\n",
      "    (11): ReLU(inplace=True)\n",
      "    (12): ConvTranspose2d(64, 3, kernel_size=(4, 4), stride=(2, 2), padding=(1, 1), bias=False)\n",
      "    (13): Tanh()\n",
      "  )\n",
      ")\n",
      "Discriminator(\n",
      "  (main): Sequential(\n",
      "    (0): Conv2d(3, 64, kernel_size=(4, 4), stride=(2, 2), padding=(1, 1), bias=False)\n",
      "    (1): LeakyReLU(negative_slope=0.2, inplace=True)\n",
      "    (2): Conv2d(64, 128, kernel_size=(4, 4), stride=(2, 2), padding=(1, 1), bias=False)\n",
      "    (3): BatchNorm2d(128, eps=1e-05, momentum=0.1, affine=True, track_running_stats=True)\n",
      "    (4): LeakyReLU(negative_slope=0.2, inplace=True)\n",
      "    (5): Conv2d(128, 256, kernel_size=(4, 4), stride=(2, 2), padding=(1, 1), bias=False)\n",
      "    (6): BatchNorm2d(256, eps=1e-05, momentum=0.1, affine=True, track_running_stats=True)\n",
      "    (7): LeakyReLU(negative_slope=0.2, inplace=True)\n",
      "    (8): Conv2d(256, 512, kernel_size=(4, 4), stride=(2, 2), padding=(1, 1), bias=False)\n",
      "    (9): BatchNorm2d(512, eps=1e-05, momentum=0.1, affine=True, track_running_stats=True)\n",
      "    (10): LeakyReLU(negative_slope=0.2, inplace=True)\n",
      "    (11): Conv2d(512, 1, kernel_size=(4, 4), stride=(1, 1), bias=False)\n",
      "    (12): Sigmoid()\n",
      "  )\n",
      ")\n"
     ]
    },
    {
     "data": {
      "text/plain": [
       "<All keys matched successfully>"
      ]
     },
     "execution_count": 4,
     "metadata": {},
     "output_type": "execute_result"
    }
   ],
   "source": [
    "\n",
    "# Create the generator\n",
    "netG = Generator(ngpu).to(device)\n",
    "\n",
    "# Handle multi-gpu if desired\n",
    "if (device.type == 'cuda') and (ngpu > 1):\n",
    "    netG = nn.DataParallel(netG, list(range(ngpu)))\n",
    "\n",
    "# Apply the weights_init function to randomly initialize all weights\n",
    "#  to mean=0, stdev=0.02.\n",
    "netG.apply(weights_init)\n",
    "\n",
    "# Print the model\n",
    "print(netG)\n",
    "\n",
    "\n",
    "# In[ ]:\n",
    "\n",
    "\n",
    "# Create the Discriminator\n",
    "netD = Discriminator(ngpu).to(device)\n",
    "\n",
    "# Handle multi-gpu if desired\n",
    "if (device.type == 'cuda') and (ngpu > 1):\n",
    "    netD = nn.DataParallel(netD, list(range(ngpu)))\n",
    "\n",
    "# Apply the weights_init function to randomly initialize all weights\n",
    "#  to mean=0, stdev=0.2.\n",
    "netD.apply(weights_init)\n",
    "\n",
    "# Print the model\n",
    "print(netD)\n",
    "\n",
    "\n",
    "# In[ ]:\n",
    "\n",
    "\n",
    "# Initialize BCELoss function\n",
    "criterion = nn.BCELoss()\n",
    "\n",
    "# Create batch of latent vectors that we will use to visualize\n",
    "#  the progression of the generator\n",
    "fixed_noise = torch.randn(64, nz, 1, 1, device=device)\n",
    "\n",
    "# Establish convention for real and fake labels during training\n",
    "real_label = 1.\n",
    "fake_label = 0.\n",
    "\n",
    "gen_path=\"models/GANs/netG1.p\"\n",
    "netG.load_state_dict(torch.load(gen_path,map_location=device))\n",
    "\n",
    "disc_path=\"models/GANs/netD1.p\"\n",
    "netD.load_state_dict(torch.load(disc_path,map_location=device))\n",
    "\n"
   ]
  },
  {
   "cell_type": "markdown",
   "metadata": {},
   "source": [
    "### Generate GAN images"
   ]
  },
  {
   "cell_type": "code",
   "execution_count": 5,
   "metadata": {},
   "outputs": [],
   "source": [
    "b_size=2000\n",
    "noise = torch.randn(b_size, nz, 1, 1, device=device)\n",
    "# Generate fake image batch with G\n",
    "fake = netG(noise)\n",
    "\n",
    "# normalize the values\n",
    "GAN_fakes=(fake-torch.min(fake))/(torch.max(fake)-torch.min(fake))\n"
   ]
  },
  {
   "cell_type": "markdown",
   "metadata": {},
   "source": [
    "### Generate images using VAEs"
   ]
  },
  {
   "cell_type": "code",
   "execution_count": 6,
   "metadata": {},
   "outputs": [],
   "source": [
    "image_dic={}"
   ]
  },
  {
   "cell_type": "markdown",
   "metadata": {},
   "source": [
    "#### Generate images using Vanilla VAE model"
   ]
  },
  {
   "cell_type": "code",
   "execution_count": 7,
   "metadata": {},
   "outputs": [
    {
     "name": "stdout",
     "output_type": "stream",
     "text": [
      "torch.Size([2000, 128]) torch.Size([2000, 128])\n"
     ]
    }
   ],
   "source": [
    "model_nm=\"VanillaVAE\"\n",
    "args_filename=\"configs/vae.yaml\"\n",
    "with open(args_filename, 'r') as file:\n",
    "    try:\n",
    "        config = yaml.safe_load(file)\n",
    "    except yaml.YAMLError as exc:\n",
    "        print(exc)\n",
    "        \n",
    "model = vae_models[config['model_params']['name']](**config['model_params'])\n",
    "\n",
    "\n",
    "chk_path=\"logs/\"+model_nm+\"/version_2/checkpoints/last.ckpt\"\n",
    "\n",
    "checkpoint = torch.load(chk_path,map_location=torch.device(device))\n",
    "\n",
    "\n",
    "for nm,params in model.named_parameters():\n",
    "    keyy=\"model.\"+nm \n",
    "    params.data=checkpoint[\"state_dict\"][keyy]\n",
    "    \n",
    "    \n",
    "X_vals_enc_arr=np.load(\"logs/\"+model_nm+\"/enc/test_aug_enc.npy\")\n",
    "mid=X_vals_enc_arr.shape[1]//2\n",
    "\n",
    "with torch.no_grad():\n",
    "    \n",
    "    mu=X_vals_enc_arr[:,:mid]\n",
    "    log_var=X_vals_enc_arr[:,mid:]\n",
    "\n",
    "    mu=torch.tensor(mu)\n",
    "    log_var=torch.tensor(log_var)\n",
    "    print(mu.shape,log_var.shape)\n",
    "    z = model.reparameterize(mu, log_var)    \n",
    "    images=model.decode(z)    \n",
    "    \n",
    "# normalize the values\n",
    "Vanilla_images=(images-torch.min(images))/(torch.max(images)-torch.min(images))\n",
    "\n",
    "\n",
    "image_dic[\"Vanilla_images\"]=Vanilla_images"
   ]
  },
  {
   "cell_type": "markdown",
   "metadata": {},
   "source": [
    "#### Generate images using Conditional VAE model"
   ]
  },
  {
   "cell_type": "code",
   "execution_count": 8,
   "metadata": {},
   "outputs": [
    {
     "name": "stdout",
     "output_type": "stream",
     "text": [
      "torch.Size([1000, 168])\n"
     ]
    }
   ],
   "source": [
    "model_nm=\"ConditionalVAE\"\n",
    "args_filename=\"configs/cvae.yaml\"\n",
    "with open(args_filename, 'r') as file:\n",
    "    try:\n",
    "        config = yaml.safe_load(file)\n",
    "    except yaml.YAMLError as exc:\n",
    "        print(exc)\n",
    "        \n",
    "model = vae_models[config['model_params']['name']](**config['model_params'])\n",
    "\n",
    "device = torch.device(\"cuda:0\" if (torch.cuda.is_available() and ngpu > 0) else \"cpu\")\n",
    "chk_path=\"logs/\"+model_nm+\"/version_0/checkpoints/last.ckpt\"\n",
    "\n",
    "checkpoint = torch.load(chk_path,map_location=torch.device(device))\n",
    "\n",
    "\n",
    "for nm,params in model.named_parameters():\n",
    "    keyy=\"model.\"+nm \n",
    "    params.data=checkpoint[\"state_dict\"][keyy]\n",
    "    \n",
    "    \n",
    "X_vals_enc_arr=np.load(\"logs/\"+model_nm+\"/enc/test_aug_enc.npy\")\n",
    "mid=X_vals_enc_arr.shape[1]//2\n",
    "\n",
    "with torch.no_grad():\n",
    "    \n",
    "    mu=X_vals_enc_arr[:,:128]\n",
    "    log_var=X_vals_enc_arr[:,128:256]\n",
    "    then_some=X_vals_enc_arr[:,256:]\n",
    "    mu=torch.tensor(mu)\n",
    "    log_var=torch.tensor(log_var)\n",
    "    then_some=torch.tensor(then_some)\n",
    "    z = model.reparameterize(mu, log_var)\n",
    "    z = torch.cat([z, then_some], dim = 1)\n",
    "    print(z.shape)\n",
    "    images=model.decode(z)        \n",
    "# normalize the values\n",
    "ConditionalVAE_images=(images-torch.min(images))/(torch.max(images)-torch.min(images))\n",
    "image_dic[\"ConditionalVAE_images\"]=ConditionalVAE_images            "
   ]
  },
  {
   "cell_type": "markdown",
   "metadata": {},
   "source": [
    "#### Generate images using DFC VAE model"
   ]
  },
  {
   "cell_type": "code",
   "execution_count": 9,
   "metadata": {},
   "outputs": [
    {
     "name": "stdout",
     "output_type": "stream",
     "text": [
      "torch.Size([2000, 128]) torch.Size([2000, 128])\n",
      "torch.Size([2000, 3, 64, 64])\n"
     ]
    }
   ],
   "source": [
    "model_nm=\"DFCVAE\"\n",
    "args_filename=\"configs/dfc_vae.yaml\"\n",
    "with open(args_filename, 'r') as file:\n",
    "    try:\n",
    "        config = yaml.safe_load(file)\n",
    "    except yaml.YAMLError as exc:\n",
    "        print(exc)\n",
    "        \n",
    "model = vae_models[config['model_params']['name']](**config['model_params'])\n",
    "\n",
    "device = torch.device(\"cuda:0\" if (torch.cuda.is_available() and ngpu > 0) else \"cpu\")\n",
    "chk_path=\"logs/\"+model_nm+\"/version_0/checkpoints/last.ckpt\"\n",
    "\n",
    "checkpoint = torch.load(chk_path,map_location=torch.device(device))\n",
    "\n",
    "\n",
    "for nm,params in model.named_parameters():\n",
    "    keyy=\"model.\"+nm \n",
    "    params.data=checkpoint[\"state_dict\"][keyy]\n",
    "    \n",
    "    \n",
    "X_vals_enc_arr=np.load(\"logs/\"+model_nm+\"/enc/test_aug_enc.npy\")\n",
    "mid=X_vals_enc_arr.shape[1]//2\n",
    "\n",
    "with torch.no_grad():\n",
    "    \n",
    "    mu=X_vals_enc_arr[:,:mid]\n",
    "    log_var=X_vals_enc_arr[:,mid:]\n",
    "    mu=torch.tensor(mu)\n",
    "    log_var=torch.tensor(log_var)\n",
    "    print(mu.shape,log_var.shape)\n",
    "    \n",
    "    z = model.reparameterize(mu, log_var)    \n",
    "    images=model.decode(z)  \n",
    "    print(images.shape)\n",
    "    \n",
    "    \n",
    "    \n",
    "    \n",
    "# normalize the values\n",
    "DFCVAE_images=(images-torch.min(images))/(torch.max(images)-torch.min(images))\n",
    "image_dic[\"DFCVAE_images\"]=DFCVAE_images                "
   ]
  },
  {
   "cell_type": "markdown",
   "metadata": {},
   "source": [
    "#### Generate images using Beta VAE model"
   ]
  },
  {
   "cell_type": "code",
   "execution_count": 10,
   "metadata": {},
   "outputs": [
    {
     "name": "stdout",
     "output_type": "stream",
     "text": [
      "torch.Size([2000, 128]) torch.Size([2000, 128])\n"
     ]
    }
   ],
   "source": [
    "model_nm=\"BetaVAE\"\n",
    "args_filename=\"configs/bbvae.yaml\"\n",
    "\n",
    "with open(args_filename, 'r') as file:\n",
    "    try:\n",
    "        config = yaml.safe_load(file)\n",
    "    except yaml.YAMLError as exc:\n",
    "        print(exc)\n",
    "        \n",
    "model = vae_models[config['model_params']['name']](**config['model_params'])\n",
    "\n",
    "device = torch.device(\"cuda:0\" if (torch.cuda.is_available() and ngpu > 0) else \"cpu\")\n",
    "chk_path=\"logs/\"+model_nm+\"/version_0/checkpoints/last.ckpt\"\n",
    "\n",
    "checkpoint = torch.load(chk_path,map_location=torch.device(device))\n",
    "\n",
    "\n",
    "for nm,params in model.named_parameters():\n",
    "    keyy=\"model.\"+nm \n",
    "    params.data=checkpoint[\"state_dict\"][keyy]\n",
    "    \n",
    "    \n",
    "X_vals_enc_arr=np.load(\"logs/\"+model_nm+\"/enc/test_aug_enc.npy\")\n",
    "mid=X_vals_enc_arr.shape[1]//2\n",
    "\n",
    "with torch.no_grad():\n",
    "    \n",
    "    mu=X_vals_enc_arr[:,:mid]\n",
    "    log_var=X_vals_enc_arr[:,mid:]\n",
    "\n",
    "    mu=torch.tensor(mu)\n",
    "    log_var=torch.tensor(log_var)\n",
    "    print(mu.shape,log_var.shape)\n",
    "    z = model.reparameterize(mu, log_var)    \n",
    "    images=model.decode(z)    \n",
    "    \n",
    "    \n",
    "# normalize the values\n",
    "BetaVAE_images=(images-torch.min(images))/(torch.max(images)-torch.min(images))\n",
    "image_dic[\"BetaVAE_images\"]=BetaVAE_images                "
   ]
  },
  {
   "cell_type": "markdown",
   "metadata": {},
   "source": [
    "#### Generate using MIWAE model"
   ]
  },
  {
   "cell_type": "code",
   "execution_count": 11,
   "metadata": {},
   "outputs": [],
   "source": [
    "# causes memory problem"
   ]
  },
  {
   "cell_type": "code",
   "execution_count": 12,
   "metadata": {},
   "outputs": [],
   "source": [
    "# model_nm=\"MIWAE\"\n",
    "# args_filename=\"configs/miwae.yaml\"\n",
    "# with open(args_filename, 'r') as file:\n",
    "#     try:\n",
    "#         config = yaml.safe_load(file)\n",
    "#     except yaml.YAMLError as exc:\n",
    "#         print(exc)\n",
    "        \n",
    "# model = vae_models[config['model_params']['name']](**config['model_params'])\n",
    "\n",
    "# device = torch.device(\"cuda:0\" if (torch.cuda.is_available() and ngpu > 0) else \"cpu\")\n",
    "# chk_path=\"logs/\"+model_nm+\"/version_0/checkpoints/last.ckpt\"\n",
    "\n",
    "# checkpoint = torch.load(chk_path,map_location=torch.device(device))\n",
    "\n",
    "\n",
    "# for nm,params in model.named_parameters():    \n",
    "#     keyy=\"model.\"+nm \n",
    "#     params.data=checkpoint[\"state_dict\"][keyy]\n",
    "    \n",
    "    \n",
    "# X_vals_enc_arr=np.load(\"logs/\"+model_nm+\"/enc/test_aug_enc.npy\")\n",
    "# mid=X_vals_enc_arr.shape[1]//2\n",
    "\n",
    "# with torch.no_grad():\n",
    "#     print(\"Creating images\")\n",
    "    \n",
    "#     mu=X_vals_enc_arr[:,:mid]\n",
    "#     log_var=X_vals_enc_arr[:,mid:]\n",
    "#     mu=torch.tensor(mu)\n",
    "#     log_var=torch.tensor(log_var)\n",
    "    \n",
    "#     mu = mu.repeat(model.num_estimates, model.num_samples, 1, 1).permute(2, 0, 1, 3) # [B x M x S x D]\n",
    "#     log_var = log_var.repeat(model.num_estimates, model.num_samples, 1, 1).permute(2, 0, 1, 3) # [B x M x S x D]\n",
    "#     print(mu.shape,log_var.shape)\n",
    "    \n",
    "    \n",
    "#     print(mu.shape,log_var.shape)\n",
    "#     z = model.reparameterize(mu, log_var)    \n",
    "#     print(\"Done reparam\",z.shape)\n",
    "#     images=model.decode(z)  \n",
    "#     print(\"done decoding\")\n",
    "#     print(images.shape)\n",
    "    \n",
    "#     images=images[:, 0, 0, :]\n",
    "#     print(images.shape)    \n",
    "    \n",
    "    \n",
    "# # normalize the values\n",
    "# MIWAE_images=(images-torch.min(images))/(torch.max(images)-torch.min(images))\n",
    "# image_dic[\"MIWAE_images\"]=MIWAE_images                    "
   ]
  },
  {
   "cell_type": "markdown",
   "metadata": {},
   "source": [
    "#### Generate using MSSIMVAE model"
   ]
  },
  {
   "cell_type": "code",
   "execution_count": 13,
   "metadata": {},
   "outputs": [
    {
     "name": "stdout",
     "output_type": "stream",
     "text": [
      "torch.Size([2000, 128]) torch.Size([2000, 128])\n",
      "torch.Size([2000, 3, 64, 64])\n"
     ]
    }
   ],
   "source": [
    "model_nm=\"MSSIMVAE\"\n",
    "args_filename=\"configs/mssim_vae.yaml\"\n",
    "with open(args_filename, 'r') as file:\n",
    "    try:\n",
    "        config = yaml.safe_load(file)\n",
    "    except yaml.YAMLError as exc:\n",
    "        print(exc)\n",
    "        \n",
    "model = vae_models[config['model_params']['name']](**config['model_params'])\n",
    "\n",
    "device = torch.device(\"cuda:0\" if (torch.cuda.is_available() and ngpu > 0) else \"cpu\")\n",
    "chk_path=\"logs/\"+model_nm+\"/version_0/checkpoints/last.ckpt\"\n",
    "\n",
    "checkpoint = torch.load(chk_path,map_location=torch.device(device))\n",
    "\n",
    "\n",
    "for nm,params in model.named_parameters():\n",
    "    keyy=\"model.\"+nm \n",
    "    params.data=checkpoint[\"state_dict\"][keyy]\n",
    "    \n",
    "    \n",
    "X_vals_enc_arr=np.load(\"logs/\"+model_nm+\"/enc/test_aug_enc.npy\")\n",
    "mid=X_vals_enc_arr.shape[1]//2\n",
    "\n",
    "with torch.no_grad():\n",
    "    \n",
    "    mu=X_vals_enc_arr[:,:mid]\n",
    "    log_var=X_vals_enc_arr[:,mid:]\n",
    "    mu=torch.tensor(mu)\n",
    "    log_var=torch.tensor(log_var)\n",
    "    \n",
    "    print(mu.shape,log_var.shape)\n",
    "    z = model.reparameterize(mu, log_var)    \n",
    "    images=model.decode(z)  \n",
    "    print(images.shape)\n",
    "    \n",
    "# normalize the values\n",
    "MSSIMVAE_images=(images-torch.min(images))/(torch.max(images)-torch.min(images))\n",
    "image_dic[\"MSSIMVAE_images\"]=MSSIMVAE_images                        "
   ]
  },
  {
   "cell_type": "markdown",
   "metadata": {},
   "source": [
    "#### Generate using WAE_MMD model"
   ]
  },
  {
   "cell_type": "code",
   "execution_count": 14,
   "metadata": {},
   "outputs": [
    {
     "name": "stdout",
     "output_type": "stream",
     "text": [
      "torch.Size([2000, 3, 64, 64])\n"
     ]
    }
   ],
   "source": [
    "model_nm=\"WAE_MMD\"\n",
    "args_filename=\"configs/wae_mmd_imq.yaml\"\n",
    "with open(args_filename, 'r') as file:\n",
    "    try:\n",
    "        config = yaml.safe_load(file)\n",
    "    except yaml.YAMLError as exc:\n",
    "        print(exc)\n",
    "        \n",
    "model = vae_models[config['model_params']['name']](**config['model_params'])\n",
    "\n",
    "device = torch.device(\"cuda:0\" if (torch.cuda.is_available() and ngpu > 0) else \"cpu\")\n",
    "chk_path=\"logs/\"+model_nm+\"/version_0/checkpoints/last.ckpt\"\n",
    "\n",
    "checkpoint = torch.load(chk_path,map_location=torch.device(device))\n",
    "\n",
    "\n",
    "for nm,params in model.named_parameters():\n",
    "    keyy=\"model.\"+nm \n",
    "    params.data=checkpoint[\"state_dict\"][keyy]\n",
    "    \n",
    "X_vals_enc_arr=np.load(\"logs/\"+model_nm+\"/enc/test_aug_enc.npy\")    \n",
    "with torch.no_grad():    \n",
    "    images=model.decode(torch.tensor(X_vals_enc_arr).float())    \n",
    "    print(images.shape)\n",
    "    \n",
    "# normalize the values\n",
    "WAE_MMD_images=(images-torch.min(images))/(torch.max(images)-torch.min(images))\n",
    "image_dic[\"WAE_MMD_images\"]=WAE_MMD_images                            "
   ]
  },
  {
   "cell_type": "markdown",
   "metadata": {},
   "source": [
    "### Load the classifiers"
   ]
  },
  {
   "cell_type": "code",
   "execution_count": 15,
   "metadata": {},
   "outputs": [],
   "source": [
    "model_dic={}"
   ]
  },
  {
   "cell_type": "markdown",
   "metadata": {},
   "source": [
    "#### AlexNet"
   ]
  },
  {
   "cell_type": "code",
   "execution_count": 16,
   "metadata": {},
   "outputs": [],
   "source": [
    "alex_model = models.alexnet(pretrained=True)\n",
    "# Here the size of each output sample is set to 2.\n",
    "alex_model.classifier[6] = nn.Linear(4096,2)\n",
    "alex_model = alex_model.to(device)\n",
    "PATH=\"../../AFaceDetector/models/s1.pt\"\n",
    "alex_model.load_state_dict(torch.load(PATH))\n",
    "alex_model.eval()\n",
    "\n",
    "\n",
    "\n",
    "model_dic[\"alexnet\"]=alex_model"
   ]
  },
  {
   "cell_type": "markdown",
   "metadata": {},
   "source": [
    "#### VGGNet"
   ]
  },
  {
   "cell_type": "code",
   "execution_count": 17,
   "metadata": {},
   "outputs": [],
   "source": [
    "model_vgg=models.vgg16(pretrained=True)\n",
    "model_vgg.classifier[6]=nn.Linear(4096,2)\n",
    "model_vgg=model_vgg.to(device)\n",
    "PATH=\"../../AFaceDetector/models/1_VGGnet.pt\"\n",
    "model_vgg.load_state_dict(torch.load(PATH,map_location=device))\n",
    "model_vgg.eval()\n",
    "\n",
    "\n",
    "\n",
    "model_dic[\"vggnet\"]=model_vgg"
   ]
  },
  {
   "cell_type": "markdown",
   "metadata": {},
   "source": [
    "#### ResNet"
   ]
  },
  {
   "cell_type": "code",
   "execution_count": 18,
   "metadata": {},
   "outputs": [],
   "source": [
    "# model_Resnet = models.resnet18(pretrained=True)\n",
    "# num_ftrs = model_Resnet.fc.in_features\n",
    "# model_Resnet.fc = nn.Linear(num_ftrs, 2)\n",
    "# model_Resnet = model_Resnet.to(device)\n",
    "\n",
    "\n",
    "\n",
    "# PATH=\"../../AFaceDetector/models/1_Renset.pt\"\n",
    "# model_Resnet.load_state_dict(torch.load(PATH,map_location=device))\n",
    "# model_Resnet.eval()\n",
    "\n",
    "\n",
    "\n",
    "# model_dic[\"resnet\"]=model_Resnet"
   ]
  },
  {
   "cell_type": "markdown",
   "metadata": {},
   "source": [
    "### DenseNet"
   ]
  },
  {
   "cell_type": "code",
   "execution_count": 19,
   "metadata": {},
   "outputs": [],
   "source": [
    "model_denseNet = models.densenet121(pretrained=True)\n",
    "\n",
    "# Here the size of each output sample is set to 2.\n",
    "model_denseNet.classifier = nn.Linear(1024, 2)\n",
    "model_denseNet = model_denseNet.to(device)\n",
    "\n",
    "PATH=\"../../AFaceDetector/models/1_Denseset.pt\"\n",
    "model_denseNet.load_state_dict(torch.load(PATH,map_location=device))\n",
    "model_denseNet.eval()\n",
    "\n",
    "\n",
    "# densenet takes too long and kernel death\n",
    "model_dic[\"densenet\"]=model_denseNet"
   ]
  },
  {
   "cell_type": "code",
   "execution_count": 20,
   "metadata": {},
   "outputs": [
    {
     "data": {
      "text/plain": [
       "dict_keys(['alexnet', 'vggnet', 'densenet'])"
      ]
     },
     "execution_count": 20,
     "metadata": {},
     "output_type": "execute_result"
    }
   ],
   "source": [
    "model_dic.keys()"
   ]
  },
  {
   "cell_type": "markdown",
   "metadata": {},
   "source": [
    "### Result on GAN"
   ]
  },
  {
   "cell_type": "code",
   "execution_count": null,
   "metadata": {},
   "outputs": [
    {
     "name": "stdout",
     "output_type": "stream",
     "text": [
      "DCGAN alexnet Accuracy is  tensor(0.2285)\n",
      "DCGAN vggnet Accuracy is  tensor(0.1185)\n"
     ]
    }
   ],
   "source": [
    "labels = torch.full((b_size,), fake_label, dtype=torch.long, device=device)\n",
    "# Classify all fake batch with D\n",
    "\n",
    "for model_name,model in model_dic.items():\n",
    "    print(model_name)\n",
    "    outputs = model(GAN_fakes)\n",
    "    _,preds=torch.max(outputs,1)\n",
    "    running_corrects = torch.sum(preds == labels.data)\n",
    "    acc=running_corrects/labels.shape[0]\n",
    "    print(\"DCGAN\",model_name , \"Accuracy is \",acc)"
   ]
  },
  {
   "cell_type": "markdown",
   "metadata": {},
   "source": [
    "### Result on VAEs"
   ]
  },
  {
   "cell_type": "markdown",
   "metadata": {},
   "source": [
    "#### Loop through dict"
   ]
  },
  {
   "cell_type": "code",
   "execution_count": null,
   "metadata": {},
   "outputs": [],
   "source": [
    "for name,images_vae in image_dic.items():\n",
    "#     print(name,images_vae.shape)\n",
    "    b_size=images_vae.shape[0]\n",
    "    labels = torch.full((b_size,), fake_label, dtype=torch.long, device=device)\n",
    "    \n",
    "    for model_name,model in model_dic.items():\n",
    "        outputs = model(images_vae)\n",
    "        _,preds=torch.max(outputs,1)\n",
    "        running_corrects = torch.sum(preds == labels.data)\n",
    "        acc=running_corrects/labels.shape[0]\n",
    "        print(name,model_name,\"Accuracy is \",acc)"
   ]
  },
  {
   "cell_type": "code",
   "execution_count": null,
   "metadata": {},
   "outputs": [],
   "source": [
    "image_dic"
   ]
  },
  {
   "cell_type": "markdown",
   "metadata": {},
   "source": [
    "#### Vanilla VAE"
   ]
  },
  {
   "cell_type": "code",
   "execution_count": 21,
   "metadata": {},
   "outputs": [],
   "source": [
    "# labels = torch.full((b_size,), fake_label, dtype=torch.long, device=device)\n",
    "# # Classify all fake batch with D\n",
    "# outputs = alex_model(Vanilla_images)\n",
    "# _,preds=torch.max(outputs,1)\n",
    "# running_corrects = torch.sum(preds == labels.data)\n",
    "# acc=running_corrects/labels.shape[0]\n",
    "# print(\"Accuracy is \",acc)"
   ]
  },
  {
   "cell_type": "markdown",
   "metadata": {},
   "source": [
    "#### Conditional VAE"
   ]
  },
  {
   "cell_type": "code",
   "execution_count": 22,
   "metadata": {},
   "outputs": [],
   "source": [
    "\n",
    "# b_size=ConditionalVAE_images.shape[0]\n",
    "# labels = torch.full((b_size,), fake_label, dtype=torch.long, device=device)\n",
    "# # Classify all fake batch with D\n",
    "# outputs = alex_model(ConditionalVAE_images)\n",
    "# _,preds=torch.max(outputs,1)\n",
    "# running_corrects = torch.sum(preds == labels.data)\n",
    "# acc=running_corrects/labels.shape[0]\n",
    "# print(\"Accuracy is \",acc)"
   ]
  },
  {
   "cell_type": "code",
   "execution_count": null,
   "metadata": {},
   "outputs": [],
   "source": []
  }
 ],
 "metadata": {
  "kernelspec": {
   "display_name": "prune_kernel",
   "language": "python",
   "name": "prune_kernel"
  },
  "language_info": {
   "codemirror_mode": {
    "name": "ipython",
    "version": 3
   },
   "file_extension": ".py",
   "mimetype": "text/x-python",
   "name": "python",
   "nbconvert_exporter": "python",
   "pygments_lexer": "ipython3",
   "version": "3.8.11"
  }
 },
 "nbformat": 4,
 "nbformat_minor": 4
}
