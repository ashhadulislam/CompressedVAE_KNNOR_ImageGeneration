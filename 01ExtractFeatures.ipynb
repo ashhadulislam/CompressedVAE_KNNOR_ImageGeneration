{
 "cells": [
  {
   "cell_type": "code",
   "execution_count": 1,
   "metadata": {},
   "outputs": [],
   "source": [
    "import os\n",
    "import yaml\n",
    "import argparse\n",
    "import numpy as np\n",
    "from pathlib import Path\n",
    "from models import *\n",
    "from experiment import VAEXperiment\n",
    "import torch.backends.cudnn as cudnn\n",
    "from pytorch_lightning import Trainer\n",
    "from pytorch_lightning.loggers import TensorBoardLogger\n",
    "from pytorch_lightning.utilities.seed import seed_everything\n",
    "from pytorch_lightning.callbacks import LearningRateMonitor, ModelCheckpoint\n",
    "from dataset import VAEDataset\n",
    "from pytorch_lightning.plugins import DDPPlugin\n",
    "\n",
    "import matplotlib.pyplot as plt"
   ]
  },
  {
   "cell_type": "code",
   "execution_count": 29,
   "metadata": {},
   "outputs": [],
   "source": [
    "model_nm=\"VanillaVAE\"\n",
    "args_filename=\"configs/vae.yaml\"\n",
    "with open(args_filename, 'r') as file:\n",
    "    try:\n",
    "        config = yaml.safe_load(file)\n",
    "    except yaml.YAMLError as exc:\n",
    "        print(exc)"
   ]
  },
  {
   "cell_type": "code",
   "execution_count": 3,
   "metadata": {},
   "outputs": [],
   "source": [
    "model = vae_models[config['model_params']['name']](**config['model_params'])\n"
   ]
  },
  {
   "cell_type": "code",
   "execution_count": 4,
   "metadata": {},
   "outputs": [],
   "source": [
    "# model"
   ]
  },
  {
   "cell_type": "code",
   "execution_count": 5,
   "metadata": {},
   "outputs": [],
   "source": [
    "device = torch.device(\"cuda:0\" if (torch.cuda.is_available() and ngpu > 0) else \"cpu\")\n",
    "chk_path=\"logs/\"+model_nm+\"/version_2/checkpoints/last.ckpt\"\n",
    "\n",
    "checkpoint = torch.load(chk_path,map_location=torch.device(device))\n"
   ]
  },
  {
   "cell_type": "code",
   "execution_count": 6,
   "metadata": {},
   "outputs": [
    {
     "data": {
      "text/plain": [
       "dict_keys(['epoch', 'global_step', 'pytorch-lightning_version', 'state_dict', 'callbacks', 'optimizer_states', 'lr_schedulers'])"
      ]
     },
     "execution_count": 6,
     "metadata": {},
     "output_type": "execute_result"
    }
   ],
   "source": [
    "checkpoint.keys()"
   ]
  },
  {
   "cell_type": "code",
   "execution_count": 7,
   "metadata": {},
   "outputs": [],
   "source": [
    "# checkpoint['state_dict']"
   ]
  },
  {
   "cell_type": "code",
   "execution_count": null,
   "metadata": {},
   "outputs": [],
   "source": []
  },
  {
   "cell_type": "code",
   "execution_count": 8,
   "metadata": {
    "scrolled": true
   },
   "outputs": [
    {
     "name": "stdout",
     "output_type": "stream",
     "text": [
      "encoder.0.0.weight\n",
      "True\n",
      "encoder.0.0.bias\n",
      "True\n",
      "encoder.0.1.weight\n",
      "True\n",
      "encoder.0.1.bias\n",
      "True\n",
      "encoder.1.0.weight\n",
      "True\n",
      "encoder.1.0.bias\n",
      "True\n",
      "encoder.1.1.weight\n",
      "True\n",
      "encoder.1.1.bias\n",
      "True\n",
      "encoder.2.0.weight\n",
      "True\n",
      "encoder.2.0.bias\n",
      "True\n",
      "encoder.2.1.weight\n",
      "True\n",
      "encoder.2.1.bias\n",
      "True\n",
      "encoder.3.0.weight\n",
      "True\n",
      "encoder.3.0.bias\n",
      "True\n",
      "encoder.3.1.weight\n",
      "True\n",
      "encoder.3.1.bias\n",
      "True\n",
      "encoder.4.0.weight\n",
      "True\n",
      "encoder.4.0.bias\n",
      "True\n",
      "encoder.4.1.weight\n",
      "True\n",
      "encoder.4.1.bias\n",
      "True\n",
      "fc_mu.weight\n",
      "True\n",
      "fc_mu.bias\n",
      "True\n",
      "fc_var.weight\n",
      "True\n",
      "fc_var.bias\n",
      "True\n",
      "decoder_input.weight\n",
      "True\n",
      "decoder_input.bias\n",
      "True\n",
      "decoder.0.0.weight\n",
      "True\n",
      "decoder.0.0.bias\n",
      "True\n",
      "decoder.0.1.weight\n",
      "True\n",
      "decoder.0.1.bias\n",
      "True\n",
      "decoder.1.0.weight\n",
      "True\n",
      "decoder.1.0.bias\n",
      "True\n",
      "decoder.1.1.weight\n",
      "True\n",
      "decoder.1.1.bias\n",
      "True\n",
      "decoder.2.0.weight\n",
      "True\n",
      "decoder.2.0.bias\n",
      "True\n",
      "decoder.2.1.weight\n",
      "True\n",
      "decoder.2.1.bias\n",
      "True\n",
      "decoder.3.0.weight\n",
      "True\n",
      "decoder.3.0.bias\n",
      "True\n",
      "decoder.3.1.weight\n",
      "True\n",
      "decoder.3.1.bias\n",
      "True\n",
      "final_layer.0.weight\n",
      "True\n",
      "final_layer.0.bias\n",
      "True\n",
      "final_layer.1.weight\n",
      "True\n",
      "final_layer.1.bias\n",
      "True\n",
      "final_layer.3.weight\n",
      "True\n",
      "final_layer.3.bias\n",
      "True\n"
     ]
    }
   ],
   "source": [
    "for nm,params in model.named_parameters():\n",
    "    print(nm)\n",
    "    print(\"model.\"+nm in checkpoint[\"state_dict\"])\n",
    "    keyy=\"model.\"+nm \n",
    "    params.data=checkpoint[\"state_dict\"][keyy]"
   ]
  },
  {
   "cell_type": "code",
   "execution_count": 9,
   "metadata": {},
   "outputs": [
    {
     "data": {
      "text/plain": [
       "tensor([[-0.5715, -0.0543,  0.4236],\n",
       "        [-0.5510,  0.1163,  0.4988],\n",
       "        [-0.7205,  0.1809,  0.2350]])"
      ]
     },
     "execution_count": 9,
     "metadata": {},
     "output_type": "execute_result"
    }
   ],
   "source": [
    "checkpoint['state_dict'][\"model.encoder.0.0.weight\"][0][0]\n"
   ]
  },
  {
   "cell_type": "code",
   "execution_count": 10,
   "metadata": {},
   "outputs": [
    {
     "name": "stdout",
     "output_type": "stream",
     "text": [
      "tensor([[-0.5715, -0.0543,  0.4236],\n",
      "        [-0.5510,  0.1163,  0.4988],\n",
      "        [-0.7205,  0.1809,  0.2350]])\n"
     ]
    }
   ],
   "source": [
    "for nm,params in model.named_parameters():\n",
    "    print(params.data[0][0])\n",
    "    break"
   ]
  },
  {
   "cell_type": "code",
   "execution_count": 11,
   "metadata": {},
   "outputs": [],
   "source": [
    "data = VAEDataset(**config[\"data_params\"])\n",
    "data.setup()\n",
    "tloader=data.test_dataloader()\n",
    "\n",
    "X_vals=[]\n",
    "with torch.no_grad():\n",
    "    for nxt in tloader:\n",
    "        print(len(nxt),nxt[0].shape,nxt[1].shape)\n",
    "        enc=model.encode(nxt[0])\n",
    "        print(len(enc),enc[0].shape,enc[1].shape)\n",
    "        enc_batch=torch.cat(enc,1)\n",
    "        enc_batch=enc_batch.detach().numpy()\n",
    "        X_vals.append(enc_batch)"
   ]
  },
  {
   "cell_type": "code",
   "execution_count": 12,
   "metadata": {},
   "outputs": [],
   "source": []
  },
  {
   "cell_type": "code",
   "execution_count": 13,
   "metadata": {},
   "outputs": [],
   "source": []
  },
  {
   "cell_type": "code",
   "execution_count": null,
   "metadata": {
    "scrolled": true
   },
   "outputs": [],
   "source": []
  },
  {
   "cell_type": "code",
   "execution_count": null,
   "metadata": {},
   "outputs": [],
   "source": []
  },
  {
   "cell_type": "code",
   "execution_count": null,
   "metadata": {},
   "outputs": [],
   "source": []
  },
  {
   "cell_type": "code",
   "execution_count": null,
   "metadata": {},
   "outputs": [],
   "source": [
    "\n"
   ]
  },
  {
   "cell_type": "code",
   "execution_count": null,
   "metadata": {},
   "outputs": [],
   "source": [
    "\n"
   ]
  },
  {
   "cell_type": "code",
   "execution_count": 62,
   "metadata": {},
   "outputs": [],
   "source": [
    "# X_vals"
   ]
  },
  {
   "cell_type": "code",
   "execution_count": 26,
   "metadata": {},
   "outputs": [],
   "source": [
    "X_vals_arr=np.concatenate(X_vals)\n",
    "\n",
    "if not os.path.isdir(\"logs/\"+model_nm+\"/enc\"):\n",
    "    os.mkdir(\"logs/\"+model_nm+\"/enc\")\n",
    "    \n",
    "np.save(\"logs/\"+model_nm+\"/enc/test_enc.npy\",X_vals_arr)"
   ]
  },
  {
   "cell_type": "code",
   "execution_count": 28,
   "metadata": {},
   "outputs": [
    {
     "data": {
      "text/plain": [
       "(19962, 256)"
      ]
     },
     "execution_count": 28,
     "metadata": {},
     "output_type": "execute_result"
    }
   ],
   "source": [
    "# X_vals_arr.shape"
   ]
  },
  {
   "cell_type": "code",
   "execution_count": 48,
   "metadata": {},
   "outputs": [
    {
     "data": {
      "text/plain": [
       "<matplotlib.image.AxesImage at 0x15549a968550>"
      ]
     },
     "execution_count": 48,
     "metadata": {},
     "output_type": "execute_result"
    },
    {
     "data": {
      "image/png": "[encoded data removed]",
      "text/plain": [
       "<Figure size 432x288 with 1 Axes>"
      ]
     },
     "metadata": {
      "needs_background": "light"
     },
     "output_type": "display_data"
    }
   ],
   "source": [
    "plt.imshow(nxt[0][9].permute(1,2,0))"
   ]
  },
  {
   "cell_type": "code",
   "execution_count": null,
   "metadata": {},
   "outputs": [],
   "source": [
    "tloader.batch_size"
   ]
  },
  {
   "cell_type": "code",
   "execution_count": null,
   "metadata": {},
   "outputs": [],
   "source": [
    "# data.prepare_data()"
   ]
  },
  {
   "cell_type": "code",
   "execution_count": null,
   "metadata": {},
   "outputs": [],
   "source": [
    "# data.has_prepared_data\n",
    "\n"
   ]
  },
  {
   "cell_type": "code",
   "execution_count": null,
   "metadata": {},
   "outputs": [],
   "source": []
  },
  {
   "cell_type": "code",
   "execution_count": 63,
   "metadata": {},
   "outputs": [
    {
     "data": {
      "text/plain": [
       "torch.Size([144, 40])"
      ]
     },
     "execution_count": 63,
     "metadata": {},
     "output_type": "execute_result"
    }
   ],
   "source": [
    "nxt[1].shape"
   ]
  },
  {
   "cell_type": "code",
   "execution_count": null,
   "metadata": {},
   "outputs": [],
   "source": []
  }
 ],
 "metadata": {
  "kernelspec": {
   "display_name": "prune_kernel",
   "language": "python",
   "name": "prune_kernel"
  },
  "language_info": {
   "codemirror_mode": {
    "name": "ipython",
    "version": 3
   },
   "file_extension": ".py",
   "mimetype": "text/x-python",
   "name": "python",
   "nbconvert_exporter": "python",
   "pygments_lexer": "ipython3",
   "version": "3.8.11"
  }
 },
 "nbformat": 4,
 "nbformat_minor": 4
}
